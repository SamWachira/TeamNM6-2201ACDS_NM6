{
 "cells": [
  {
   "cell_type": "code",
   "execution_count": null,
   "id": "90fa7842",
   "metadata": {},
   "outputs": [],
   "source": [
    "model_load_path = \"mlr_model.pkl\"\n",
    "with open(model_load_path,'rb') as file:\n",
    "    unpickled_model = pickle.load(file)"
   ]
  },
  {
   "cell_type": "code",
   "execution_count": 2,
   "id": "1d4086c4",
   "metadata": {},
   "outputs": [
    {
     "ename": "NameError",
     "evalue": "name 'lr' is not defined",
     "output_type": "error",
     "traceback": [
      "\u001b[1;31m---------------------------------------------------------------------------\u001b[0m",
      "\u001b[1;31mNameError\u001b[0m                                 Traceback (most recent call last)",
      "Input \u001b[1;32mIn [2]\u001b[0m, in \u001b[0;36m<cell line: 5>\u001b[1;34m()\u001b[0m\n\u001b[0;32m      4\u001b[0m lr_load_path \u001b[38;5;241m=\u001b[39m \u001b[38;5;124m\"\u001b[39m\u001b[38;5;124m../Streamlit/resources/logistic_regression_model.pkl\u001b[39m\u001b[38;5;124m\"\u001b[39m\n\u001b[0;32m      5\u001b[0m \u001b[38;5;28;01mwith\u001b[39;00m \u001b[38;5;28mopen\u001b[39m(lr_load_path,\u001b[38;5;124m'\u001b[39m\u001b[38;5;124mrb\u001b[39m\u001b[38;5;124m'\u001b[39m) \u001b[38;5;28;01mas\u001b[39;00m lr_file:\n\u001b[1;32m----> 6\u001b[0m     pickle\u001b[38;5;241m.\u001b[39mdump(\u001b[43mlr\u001b[49m, lr_file)\n\u001b[0;32m      9\u001b[0m \u001b[38;5;66;03m# Loading the Linear SVC model\u001b[39;00m\n\u001b[0;32m     10\u001b[0m lsvc_load_path \u001b[38;5;241m=\u001b[39m \u001b[38;5;124m\"\u001b[39m\u001b[38;5;124m../Streamlit/resources/linear_svc_model.pkl\u001b[39m\u001b[38;5;124m\"\u001b[39m\n",
      "\u001b[1;31mNameError\u001b[0m: name 'lr' is not defined"
     ]
    }
   ],
   "source": [
    "import pickle\n",
    "\n",
    "# Loading the Logistic regression model\n",
    "lr_load_path = \"../Streamlit/resources/logistic_regression_model.pkl\"\n",
    "with open(lr_load_path,'rb') as lr_file:\n",
    "    pickle.dump(lr, lr_file)\n",
    "\n",
    "    \n",
    "# Loading the Linear SVC model\n",
    "lsvc_load_path = \"../Streamlit/resources/linear_svc_model.pkl\"\n",
    "with open(lsvc_load_path,'rb') as lsvc_file:\n",
    "    pickle.dump(lsvc, lsvc_file)\n",
    "\n",
    "    \n",
    "# Loading the Random Forest model\n",
    "rf_load_path = \"../Streamlit/resources/random_forest_model.pkl\"\n",
    "with open(rf_load_path,'rb') as rf_file:\n",
    "    pickle.dump(rf, rf_file)\n",
    "\n",
    "    \n",
    "# Loading the Naive Bayes model\n",
    "nb_load_path = \"../Streamlit/resources/naive_bayes_model.pkl\"\n",
    "with open(nb_load_path,'rb') as nb_file:\n",
    "    pickle.dump(nb, nb_file)\n",
    "    \n",
    "\n",
    "# Loading the K Nearest Neighbour model\n",
    "knn_load_path = \"../Streamlit/resources/knn_model.pkl\"\n",
    "with open(knn_load_path,'rb') as knn_file:\n",
    "    pickle.dump(knn, knn_file)\n",
    "\n",
    "    \n",
    "# Loading the Linear SVC Optimised model\n",
    "lsvc_op_load_path = \"../Streamlit/resources/lsvc_op_model.pkl\"\n",
    "with open(lsvc_op_load_path,'rb') as lsvc_op_file:\n",
    "    pickle.dump(lsvc_op, lsvc_op_file)"
   ]
  },
  {
   "cell_type": "code",
   "execution_count": null,
   "id": "0c5ba173",
   "metadata": {},
   "outputs": [],
   "source": []
  }
 ],
 "metadata": {
  "kernelspec": {
   "display_name": "Python 3 (ipykernel)",
   "language": "python",
   "name": "python3"
  },
  "language_info": {
   "codemirror_mode": {
    "name": "ipython",
    "version": 3
   },
   "file_extension": ".py",
   "mimetype": "text/x-python",
   "name": "python",
   "nbconvert_exporter": "python",
   "pygments_lexer": "ipython3",
   "version": "3.9.7"
  }
 },
 "nbformat": 4,
 "nbformat_minor": 5
}
